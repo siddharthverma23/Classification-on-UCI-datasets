{
 "cells": [
  {
   "cell_type": "code",
   "execution_count": 28,
   "metadata": {},
   "outputs": [],
   "source": [
    "# Import all the libraries\n",
    "import numpy as np\n",
    "import pandas as pd\n",
    "import matplotlib.pyplot as plt\n",
    "from sklearn.preprocessing import MinMaxScaler\n",
    "from sklearn.metrics import mean_squared_error \n",
    "from sklearn.model_selection import train_test_split\n",
    "from sklearn.cross_validation import cross_val_predict\n",
    "from sklearn.cross_validation import cross_val_score\n",
    "from sklearn.linear_model import LinearRegression\n",
    "from sklearn import linear_model\n",
    "from sklearn import neighbors\n",
    "from sklearn.svm import SVR\n",
    "from sklearn.model_selection import GridSearchCV, cross_val_score, KFold, RandomizedSearchCV\n",
    "from sklearn.tree import DecisionTreeRegressor\n",
    "from sklearn.preprocessing import StandardScaler, MinMaxScaler\n",
    "from mlxtend.feature_selection import SequentialFeatureSelector as sfs\n",
    "from mlxtend.plotting import plot_sequential_feature_selection as plot_sfs\n",
    "from sklearn.feature_selection import SelectKBest\n",
    "from sklearn.feature_selection import chi2\n",
    "from sklearn import ensemble\n",
    "from sklearn.utils import shuffle\n",
    "from sklearn.metrics import mean_squared_error\n",
    "from sklearn.ensemble import GradientBoostingRegressor\n",
    "from sklearn.neural_network import MLPRegressor\n",
    "from sklearn.pipeline import Pipeline\n",
    "from xgboost import XGBRegressor\n",
    "from mlxtend.regressor import StackingRegressor\n",
    "from sklearn.metrics import r2_score"
   ]
  },
  {
   "cell_type": "code",
   "execution_count": 46,
   "metadata": {},
   "outputs": [],
   "source": [
    "# Nested Cross Validation to compare accuracies across models\n",
    "def nested_cv_evaluation(model_name, parameters, X_train, y_train, scaler = None):\n",
    "    NUM_TRIALS = 10\n",
    "    nested_scores_err = np.zeros(NUM_TRIALS)\n",
    "    nested_scores_r2 = np.zeros(NUM_TRIALS)\n",
    "\n",
    "    for i in range(NUM_TRIALS):\n",
    "        pipeline = Pipeline([('transformer', scaler), ('estimator', model_name)])\n",
    "\n",
    "        inner_cv = KFold(n_splits=3, shuffle=True, random_state=i)\n",
    "        outer_cv = KFold(n_splits=3, shuffle=True, random_state=i)\n",
    "\n",
    "        #clf = GridSearchCV(estimator = model_name, param_grid = parameters, cv=inner_cv)\n",
    "        clf = GridSearchCV(pipeline, param_grid = parameters, cv=inner_cv)\n",
    "        clf.fit(X_train, y_train)\n",
    "        \n",
    "        pipeline2 = Pipeline([('transformer', scaler), ('estimator', clf)])\n",
    "\n",
    "        # Nested CV with parameter optimization\n",
    "        nested_score_error = cross_val_score(pipeline2, X_train, y_train, cv=outer_cv, scoring='neg_mean_squared_error')\n",
    "        nested_score_r2 = cross_val_score(pipeline2, X_train, y_train, cv=outer_cv, scoring='r2')\n",
    "        \n",
    "        nested_scores_err[i] = nested_score_error.mean()\n",
    "        nested_scores_r2[i] = nested_score_r2.mean()\n",
    "        \n",
    "    estimators.append(model_name)\n",
    "    avg_error_all_models_nested_cv.append(nested_scores_err.mean())\n",
    "    std_error_all_models_nested_cv.append(nested_scores_err.std())\n",
    "    avg_Rsquare_all_models_nested_cv.append(nested_scores_r2.mean())\n",
    "    std_Rsquare_all_models_nested_cv.append(nested_scores_r2.std())\n",
    "\n",
    "    #std_all_models_nested_cv.append(nested_scores.std())\n",
    "    print(\"Average error is {0} and standard deviation is {1}\".format(nested_scores_err.mean(), nested_scores_err.std()))\n",
    "    print(\"Average R-Square is {0} and standard deviation is {1}\".format(nested_scores_r2.mean(), nested_scores_r2.std()))"
   ]
  },
  {
   "cell_type": "code",
   "execution_count": 47,
   "metadata": {},
   "outputs": [],
   "source": [
    "X_train.head()\n",
    "\n",
    "def feature_selection_func(estimator, params, X_train, y_train, scaler = None):\n",
    "    sfs1 = sfs(estimator, k_features=\"best\", forward=True, floating=False, cv=10)\n",
    "\n",
    "    sfs2 = sfs1.fit(X_train, y_train)\n",
    "    fig = plot_sfs(sfs2.get_metric_dict(), kind='std_err')\n",
    "    plt.title('Sequential Forward Selection (w. StdErr)')\n",
    "    plt.grid()\n",
    "    plt.show()\n",
    "    print('Selected features:', sfs2.k_feature_idx_)\n",
    "    X_train_sfs = sfs2.transform(X_train)\n",
    "    X_test_sfs = sfs2.transform(X_test)\n",
    "    nested_cv_evaluation(estimator, params, X_train_sfs, y_train, scaler)"
   ]
  },
  {
   "cell_type": "code",
   "execution_count": null,
   "metadata": {},
   "outputs": [],
   "source": [
    "train = pd.read_csv('train.csv')\n",
    "test = pd.read_csv('test.csv')\n",
    "\n",
    "train['Dt'] = pd.to_datetime(train['Date']).dt.day\n",
    "train['Mon'] = pd.to_datetime(train['Date']).dt.month\n",
    "train['Year'] = pd.to_datetime(train['Date']).dt.year\n",
    "train['StateHoliday'] = train['StateHoliday'].apply(str)\n",
    "\n",
    "test['Dt'] = pd.to_datetime(test['Date']).dt.day\n",
    "test['Mon'] = pd.to_datetime(test['Date']).dt.month\n",
    "test['Year'] = pd.to_datetime(test['Date']).dt.year\n",
    "test['StateHoliday'] = test['StateHoliday'].apply(str)"
   ]
  },
  {
   "cell_type": "code",
   "execution_count": null,
   "metadata": {},
   "outputs": [],
   "source": [
    "# Initial feature selection \n",
    "# Not taking Store because it might create a lot of features\n",
    "X_train = train[['DayOfWeek','Open','Promo','StateHoliday','SchoolHoliday','Dt','Mon','Year']]\n",
    "y_train = train[['Sales']]\n",
    "X_test = test[['DayOfWeek','Open','Promo','StateHoliday','SchoolHoliday','Dt','Mon','Year']]"
   ]
  },
  {
   "cell_type": "code",
   "execution_count": 44,
   "metadata": {},
   "outputs": [],
   "source": [
    "X_train = pd.get_dummies(X_train, columns=['DayOfWeek','Open','Promo','StateHoliday',\n",
    "                                           'SchoolHoliday','Dt','Mon','Year'], dummy_na=False)\n",
    "X_test = pd.get_dummies(X_test, columns=['DayOfWeek','Open','Promo','StateHoliday',\n",
    "                                         'SchoolHoliday','Dt','Mon','Year'], dummy_na=False)"
   ]
  },
  {
   "cell_type": "code",
   "execution_count": 50,
   "metadata": {},
   "outputs": [
    {
     "data": {
      "text/plain": [
       "Index(['DayOfWeek_1', 'DayOfWeek_2', 'DayOfWeek_3', 'DayOfWeek_4',\n",
       "       'DayOfWeek_5', 'DayOfWeek_6', 'DayOfWeek_7', 'Open_0', 'Open_1',\n",
       "       'Promo_0', 'Promo_1', 'StateHoliday_0', 'StateHoliday_a',\n",
       "       'SchoolHoliday_0', 'SchoolHoliday_1', 'Dt_1', 'Dt_2', 'Dt_3', 'Dt_4',\n",
       "       'Dt_5', 'Dt_6', 'Dt_7', 'Dt_8', 'Dt_9', 'Dt_10', 'Dt_11', 'Dt_12',\n",
       "       'Dt_13', 'Dt_14', 'Dt_15', 'Dt_16', 'Dt_17', 'Dt_18', 'Dt_19', 'Dt_20',\n",
       "       'Dt_21', 'Dt_22', 'Dt_23', 'Dt_24', 'Dt_25', 'Dt_26', 'Dt_27', 'Dt_28',\n",
       "       'Dt_29', 'Dt_30', 'Dt_31', 'Mon_8', 'Mon_9', 'Year_2015',\n",
       "       'StateHoliday_b', 'StateHoliday_c', 'Mon_1', 'Mon_2', 'Mon_3', 'Mon_4',\n",
       "       'Mon_5', 'Mon_6', 'Mon_7', 'Mon_10', 'Mon_11', 'Mon_12', 'Year_2013',\n",
       "       'Year_2014'],\n",
       "      dtype='object')"
      ]
     },
     "execution_count": 50,
     "metadata": {},
     "output_type": "execute_result"
    }
   ],
   "source": [
    "X_test = X_test.rename(columns = {'Open_0.0' : 'Open_0', 'Open_1.0': 'Open_1'})\n",
    "for c in X_train.columns:\n",
    "    if c not in X_test.columns:\n",
    "        X_test[c] = 0\n",
    "X_test.columns"
   ]
  },
  {
   "cell_type": "code",
   "execution_count": 52,
   "metadata": {},
   "outputs": [],
   "source": [
    "# Simple linear regression\n",
    "# p_grid = {'penalty': ['l1', 'l2'],'C' : np.logspace(0, 4, 10)} This is not working. Ask\n",
    "param = {'estimator__fit_intercept':[True,False], 'estimator__normalize':[True,False], 'estimator__copy_X':[True, False]}\n",
    "lin_reg = linear_model.LinearRegression()\n",
    "fit = lin_reg.fit(X_train, y_train)"
   ]
  },
  {
   "cell_type": "code",
   "execution_count": null,
   "metadata": {},
   "outputs": [],
   "source": [
    "# Linear Regression with feature selection\n",
    "feature_selection_func(lin_reg, param, X_train, y_train)"
   ]
  },
  {
   "cell_type": "code",
   "execution_count": 53,
   "metadata": {},
   "outputs": [],
   "source": [
    "y_pred = fit.predict(X_test)"
   ]
  },
  {
   "cell_type": "code",
   "execution_count": 55,
   "metadata": {},
   "outputs": [],
   "source": [
    "lin_reg = linear_model.LinearRegression()\n",
    "scores = cross_val_score(lin_reg,X_train,y_train,cv=3,scoring='neg_mean_squared_error')\n",
    "scores_r2 = cross_val_score(lin_reg,X_train,y_train,cv=3,scoring='r2')\n",
    "print(scores)\n",
    "print(scores_r2*100)"
   ]
  },
  {
   "cell_type": "code",
   "execution_count": 59,
   "metadata": {},
   "outputs": [
    {
     "name": "stdout",
     "output_type": "stream",
     "text": [
      "[2593.43990356 2593.07937437 2492.11791323]\n",
      "[56.82561482 56.32411481 53.63110006]\n"
     ]
    }
   ],
   "source": [
    "ridge_reg = linear_model.Ridge()\n",
    "scores = cross_val_score(ridge_reg,X_train,y_train,cv=3,scoring='neg_mean_squared_error')\n",
    "scores_r2 = cross_val_score(ridge_reg,X_train,y_train,cv=3,scoring='r2')\n",
    "print(np.sqrt(-1*scores))\n",
    "print(scores_r2*100)"
   ]
  },
  {
   "cell_type": "code",
   "execution_count": 62,
   "metadata": {},
   "outputs": [
    {
     "name": "stderr",
     "output_type": "stream",
     "text": [
      "C:\\Users\\Divya\\AppData\\Local\\Continuum\\anaconda3\\lib\\site-packages\\sklearn\\utils\\validation.py:578: DataConversionWarning: A column-vector y was passed when a 1d array was expected. Please change the shape of y to (n_samples, ), for example using ravel().\n",
      "  y = column_or_1d(y, warn=True)\n",
      "C:\\Users\\Divya\\AppData\\Local\\Continuum\\anaconda3\\lib\\site-packages\\sklearn\\utils\\validation.py:578: DataConversionWarning: A column-vector y was passed when a 1d array was expected. Please change the shape of y to (n_samples, ), for example using ravel().\n",
      "  y = column_or_1d(y, warn=True)\n",
      "C:\\Users\\Divya\\AppData\\Local\\Continuum\\anaconda3\\lib\\site-packages\\sklearn\\utils\\validation.py:578: DataConversionWarning: A column-vector y was passed when a 1d array was expected. Please change the shape of y to (n_samples, ), for example using ravel().\n",
      "  y = column_or_1d(y, warn=True)\n",
      "C:\\Users\\Divya\\AppData\\Local\\Continuum\\anaconda3\\lib\\site-packages\\sklearn\\utils\\validation.py:578: DataConversionWarning: A column-vector y was passed when a 1d array was expected. Please change the shape of y to (n_samples, ), for example using ravel().\n",
      "  y = column_or_1d(y, warn=True)\n",
      "C:\\Users\\Divya\\AppData\\Local\\Continuum\\anaconda3\\lib\\site-packages\\sklearn\\utils\\validation.py:578: DataConversionWarning: A column-vector y was passed when a 1d array was expected. Please change the shape of y to (n_samples, ), for example using ravel().\n",
      "  y = column_or_1d(y, warn=True)\n",
      "C:\\Users\\Divya\\AppData\\Local\\Continuum\\anaconda3\\lib\\site-packages\\sklearn\\utils\\validation.py:578: DataConversionWarning: A column-vector y was passed when a 1d array was expected. Please change the shape of y to (n_samples, ), for example using ravel().\n",
      "  y = column_or_1d(y, warn=True)\n"
     ]
    },
    {
     "name": "stdout",
     "output_type": "stream",
     "text": [
      "[2564.31036017 2545.80871117 2468.08099115]\n",
      "[57.7900383  57.90198383 54.52125902]\n"
     ]
    }
   ],
   "source": [
    "clf_rf = GradientBoostingRegressor(random_state=123)\n",
    "scores = cross_val_score(clf_rf,X_train,y_train,cv=3,scoring='neg_mean_squared_error')\n",
    "scores_r2 = cross_val_score(clf_rf,X_train,y_train,cv=3,scoring='r2')\n",
    "print(np.sqrt(-1*scores))\n",
    "print(scores_r2*100)"
   ]
  },
  {
   "cell_type": "code",
   "execution_count": 64,
   "metadata": {},
   "outputs": [
    {
     "name": "stderr",
     "output_type": "stream",
     "text": [
      "C:\\Users\\Divya\\AppData\\Local\\Continuum\\anaconda3\\lib\\site-packages\\sklearn\\utils\\validation.py:578: DataConversionWarning: A column-vector y was passed when a 1d array was expected. Please change the shape of y to (n_samples, ), for example using ravel().\n",
      "  y = column_or_1d(y, warn=True)\n"
     ]
    }
   ],
   "source": [
    "fit = clf_rf.fit(X_train, y_train)\n",
    "y_pred = fit.predict(X_test)"
   ]
  },
  {
   "cell_type": "code",
   "execution_count": 66,
   "metadata": {},
   "outputs": [
    {
     "name": "stdout",
     "output_type": "stream",
     "text": [
      "Sales    0\n",
      "dtype: int64\n",
      "Sales    41551\n",
      "dtype: int64\n"
     ]
    }
   ],
   "source": [
    "print(y_train.min())\n",
    "print(y_train.max())"
   ]
  },
  {
   "cell_type": "code",
   "execution_count": 67,
   "metadata": {},
   "outputs": [
    {
     "data": {
      "text/plain": [
       "array([8685.43609311, 8685.43609311, 8685.43609311, ..., 6385.36306696,\n",
       "       6385.36306696, 6385.36306696])"
      ]
     },
     "execution_count": 67,
     "metadata": {},
     "output_type": "execute_result"
    }
   ],
   "source": [
    "y_pred"
   ]
  }
 ],
 "metadata": {
  "kernelspec": {
   "display_name": "Python 3",
   "language": "python",
   "name": "python3"
  },
  "language_info": {
   "codemirror_mode": {
    "name": "ipython",
    "version": 3
   },
   "file_extension": ".py",
   "mimetype": "text/x-python",
   "name": "python",
   "nbconvert_exporter": "python",
   "pygments_lexer": "ipython3",
   "version": "3.6.4"
  }
 },
 "nbformat": 4,
 "nbformat_minor": 2
}
